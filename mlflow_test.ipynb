{
 "cells": [
  {
   "cell_type": "code",
   "execution_count": null,
   "metadata": {},
   "outputs": [],
   "source": [
    "import mlflow\n",
    "\n",
    "from pyngrok import ngrok\n",
    "from getpass import getpass\n",
    "\n",
    "from sklearn import datasets\n",
    "from sklearn.model_selection import train_test_split\n",
    "from sklearn.metrics import accuracy_score, log_loss\n",
    "import xgboost as xgb\n",
    "import mlflow\n",
    "import mlflow.xgboost"
   ]
  },
  {
   "cell_type": "markdown",
   "metadata": {},
   "source": [
    "# Start mlflow in the background"
   ]
  },
  {
   "cell_type": "code",
   "execution_count": 2,
   "metadata": {},
   "outputs": [],
   "source": [
    "with mlflow.start_run(run_name=\"MLflow test\"):\n",
    "    mlflow.log_metric(\"m1\", 2.0)\n",
    "    mlflow.log_param(\"p1\", \"mlflow-test\")\n",
    "# run tracking UI in the background\n",
    "get_ipython().system_raw(\"mlflow ui --port 8889 &\")"
   ]
  },
  {
   "cell_type": "markdown",
   "metadata": {},
   "source": [
    "# PyNgrok for remote tunnel access"
   ]
  },
  {
   "cell_type": "code",
   "execution_count": 3,
   "metadata": {},
   "outputs": [],
   "source": [
    "# Terminate open tunnels if any exist\n",
    "ngrok.kill()"
   ]
  },
  {
   "cell_type": "markdown",
   "metadata": {},
   "source": [
    "# Login on ngrok.com and get your authtoken from https://dashboard.ngrok.com/auth"
   ]
  },
  {
   "cell_type": "code",
   "execution_count": 4,
   "metadata": {},
   "outputs": [
    {
     "name": "stdin",
     "output_type": "stream",
     "text": [
      "Enter the ngrok authtoken:  ·················································\n"
     ]
    },
    {
     "name": "stdout",
     "output_type": "stream",
     "text": [
      "MLflow Tracking UI: https://72da26be4cb0.ngrok.io\n"
     ]
    }
   ],
   "source": [
    "# Enter your auth token when the code is running\n",
    "NGROK_AUTH_TOKEN = getpass('Enter the ngrok authtoken: ')\n",
    "ngrok.set_auth_token(NGROK_AUTH_TOKEN)\n",
    "ngrok_tunnel = ngrok.connect(addr=\"8889\", proto=\"http\", bind_tls=True)\n",
    "print(\"MLflow Tracking UI:\", ngrok_tunnel.public_url)"
   ]
  },
  {
   "cell_type": "code",
   "execution_count": 5,
   "metadata": {},
   "outputs": [],
   "source": [
    "# Loading iris dataset to prepare test and train\n",
    "iris = datasets.load_iris()\n",
    "X = iris.data\n",
    "Y = iris.target\n",
    "    \n",
    "def train():\n",
    "    X_train, X_test, Y_train, Y_test = train_test_split(X, Y, test_size=0.3, random_state=25)\n",
    "    # enable auto logging in MLflow\n",
    "    mlflow.xgboost.autolog()\n",
    "    dtrain = xgb.DMatrix(X_train, label=Y_train)\n",
    "    dtest = xgb.DMatrix(X_test, label=Y_test)\n",
    "    with mlflow.start_run():\n",
    "        # train the XGBoost model\n",
    "        params = {\n",
    "            \"objective\": \"multi:softprob\",\n",
    "            \"num_class\": 3,\n",
    "            \"learning_rate\": 1,\n",
    "            \"eval_metric\": \"mlogloss\",\n",
    "            \"seed\": 42,\n",
    "        }\n",
    "        model = xgb.train(params, dtrain, evals=[(dtrain, \"train\")])\n",
    "        # evaluate model\n",
    "        Y_prob = model.predict(dtest)\n",
    "        Y_pred = Y_prob.argmax(axis=1)\n",
    "        loss = log_loss(Y_test, Y_prob)\n",
    "        acc = accuracy_score(Y_test, Y_pred)\n",
    "        # log metrics\n",
    "        mlflow.log_metrics({\"log_loss\": loss, \"accuracy\": acc})"
   ]
  },
  {
   "cell_type": "code",
   "execution_count": 6,
   "metadata": {},
   "outputs": [
    {
     "name": "stdout",
     "output_type": "stream",
     "text": [
      "[0]\ttrain-mlogloss:0.26308\n",
      "[1]\ttrain-mlogloss:0.12395\n",
      "[2]\ttrain-mlogloss:0.05955\n",
      "[3]\ttrain-mlogloss:0.03595\n",
      "[4]\ttrain-mlogloss:0.02555\n",
      "[5]\ttrain-mlogloss:0.02392\n",
      "[6]\ttrain-mlogloss:0.02289\n",
      "[7]\ttrain-mlogloss:0.02210\n",
      "[8]\ttrain-mlogloss:0.02165\n",
      "[9]\ttrain-mlogloss:0.02124\n"
     ]
    }
   ],
   "source": [
    "train()"
   ]
  },
  {
   "cell_type": "code",
   "execution_count": null,
   "metadata": {},
   "outputs": [],
   "source": []
  }
 ],
 "metadata": {
  "kernelspec": {
   "display_name": "Python 3",
   "language": "python",
   "name": "python3"
  },
  "language_info": {
   "codemirror_mode": {
    "name": "ipython",
    "version": 3
   },
   "file_extension": ".py",
   "mimetype": "text/x-python",
   "name": "python",
   "nbconvert_exporter": "python",
   "pygments_lexer": "ipython3",
   "version": "3.9.5"
  }
 },
 "nbformat": 4,
 "nbformat_minor": 4
}
